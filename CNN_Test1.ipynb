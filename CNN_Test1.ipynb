{
  "nbformat": 4,
  "nbformat_minor": 0,
  "metadata": {
    "colab": {
      "name": "CNN_Test1.ipynb",
      "provenance": [],
      "collapsed_sections": [],
      "machine_shape": "hm"
    },
    "kernelspec": {
      "name": "python3",
      "display_name": "Python 3"
    }
  },
  "cells": [
    {
      "cell_type": "code",
      "execution_count": 0,
      "metadata": {
        "colab": {
          "base_uri": "https://localhost:8080/",
          "height": 34
        },
        "colab_type": "code",
        "id": "RV8o9QhigbwX",
        "outputId": "092e1c7d-5cc3-401f-cb26-b9a3610f7a72"
      },
      "outputs": [
        {
          "name": "stderr",
          "output_type": "stream",
          "text": [
            "Using TensorFlow backend.\n"
          ]
        }
      ],
      "source": [
        "import tensorflow as tf\n",
        "from tensorflow import keras\n",
        "from keras.datasets import cifar10, mnist\n",
        "from tensorflow.keras import Sequential\n",
        "from tensorflow.keras.layers import Dense, Dropout, Flatten, Conv2D, MaxPool2D\n",
        "from tensorflow.keras.layers import MaxPooling2D\n",
        "import numpy as np\n",
        "import scipy\n",
        "import matplotlib\n",
        "import matplotlib.pyplot as plt\n",
        "from keras.preprocessing.image import ImageDataGenerator\n",
        "\n",
        "from google.colab import drive\n",
        "from google.colab import files\n",
        "\n",
        "np.random.seed(0)\n"
      ]
    },
    {
      "cell_type": "code",
      "execution_count": 0,
      "metadata": {
        "colab": {},
        "colab_type": "code",
        "id": "nd-rbQZJjq8q"
      },
      "outputs": [],
      "source": [
        "#!pip install --upgrade tensorflow==2.0"
      ]
    },
    {
      "cell_type": "code",
      "execution_count": 0,
      "metadata": {
        "colab": {
          "base_uri": "https://localhost:8080/",
          "height": 34
        },
        "colab_type": "code",
        "id": "6pcfyRpOnD-L",
        "outputId": "4aa13b7e-f37d-48ba-86bc-8b5f0e59cf3d"
      },
      "outputs": [
        {
          "name": "stdout",
          "output_type": "stream",
          "text": [
            "Drive already mounted at /content/gdrive; to attempt to forcibly remount, call drive.mount(\"/content/gdrive\", force_remount=True).\n"
          ]
        }
      ],
      "source": [
        "drive.mount('/content/gdrive')\n",
        "root_path = 'gdrive/My Drive/AppliedProject/'"
      ]
    },
    {
      "cell_type": "code",
      "execution_count": 0,
      "metadata": {
        "colab": {},
        "colab_type": "code",
        "id": "clBhhQS9jzM3"
      },
      "outputs": [],
      "source": [
        "#train = ('gdrive/My Drive/AppliedProject/Training/Faked/Copy of 000000.png')\n",
        "\n",
        "#s1 = train.shape\n",
        "#print(f\"The mnist data was loaded with {s1[0]} training samples and testing samples. Each sample is a {s1[1]} x {s1[2]} pixel image.\")\n"
      ]
    },
    {
      "cell_type": "code",
      "execution_count": 0,
      "metadata": {
        "colab": {},
        "colab_type": "code",
        "id": "A0B_DAhUwTF-"
      },
      "outputs": [],
      "source": [
        "classifier = Sequential()\n",
        "classifier.add(Conv2D(32, (3, 3), input_shape = (1024, 1024, 3), activation = 'relu'))\n",
        "classifier.add(MaxPooling2D(pool_size = (2, 2)))\n",
        "classifier.add(Flatten())\n",
        "classifier.add(Dense(units = 128, activation = 'relu'))\n",
        "classifier.add(Dense(units = 1, activation = 'sigmoid'))\n",
        "classifier.compile(optimizer = 'adam', loss = 'binary_crossentropy', metrics = ['accuracy'])"
      ]
    },
    {
      "cell_type": "code",
      "execution_count": 0,
      "metadata": {
        "colab": {
          "base_uri": "https://localhost:8080/",
          "height": 51
        },
        "colab_type": "code",
        "id": "ZmXwoJerq2WL",
        "outputId": "a90fb00c-91af-458a-aa54-3d6044c1864e"
      },
      "outputs": [
        {
          "name": "stdout",
          "output_type": "stream",
          "text": [
            "Found 201 images belonging to 2 classes.\n",
            "Found 198 images belonging to 2 classes.\n"
          ]
        }
      ],
      "source": [
        "train_datagen = ImageDataGenerator(rescale = 1./255,\n",
        "shear_range = 0.2,\n",
        "zoom_range = 0.2,\n",
        "horizontal_flip = True)\n",
        "\n",
        "test_datagen = ImageDataGenerator(rescale = 1./255)\n",
        "\n",
        "training_set = train_datagen.flow_from_directory('gdrive/My Drive/AppliedProject/Training',\n",
        "target_size = (1024,1024),\n",
        "batch_size = 4,\n",
        "class_mode = 'binary')\n",
        "\n",
        "test_set = test_datagen.flow_from_directory('gdrive/My Drive/AppliedProject/Test2',\n",
        "target_size = (1024,1024),\n",
        "batch_size = 4,\n",
        "class_mode = 'binary')"
      ]
    },
    {
      "cell_type": "code",
      "execution_count": 0,
      "metadata": {
        "colab": {},
        "colab_type": "code",
        "id": "tpWREIrqiWZP"
      },
      "outputs": [],
      "source": [
        "x_train"
      ]
    },
    {
      "cell_type": "code",
      "execution_count": 0,
      "metadata": {
        "colab": {},
        "colab_type": "code",
        "id": "hmPg3vgz4kA1"
      },
      "outputs": [],
      "source": [
        "#x_train = training_set[0]\n",
        "#y_train = training_set[1]"
      ]
    },
    {
      "cell_type": "code",
      "execution_count": 0,
      "metadata": {
        "colab": {
          "base_uri": "https://localhost:8080/",
          "height": 136
        },
        "colab_type": "code",
        "id": "913nGiU2weRu",
        "outputId": "37e33e1f-0726-461a-e47b-56c2df88627c"
      },
      "outputs": [
        {
          "name": "stdout",
          "output_type": "stream",
          "text": [
            "Epoch 1/3\n",
            "51/51 [==============================] - 323s 6s/step - loss: 7.7396 - accuracy: 0.5025\n",
            "Epoch 2/3\n",
            "51/51 [==============================] - 323s 6s/step - loss: 7.7396 - accuracy: 0.5025\n",
            "Epoch 3/3\n",
            "51/51 [==============================] - 324s 6s/step - loss: 7.5185 - accuracy: 0.5025\n"
          ]
        },
        {
          "data": {
            "text/plain": [
              "<tensorflow.python.keras.callbacks.History at 0x7f18b2c57908>"
            ]
          },
          "execution_count": 37,
          "metadata": {
            "tags": []
          },
          "output_type": "execute_result"
        }
      ],
      "source": [
        "classifier.fit_generator(training_set,epochs = 3)\n",
        "#classifier.fit(x_train,y_train,epochs=1)\n",
        "\n",
        "#classifier.fit_generator(training_set,\n",
        "#steps_per_epoch = 2,\n",
        "#epochs = 2,\n",
        "#validation_data = test_set,\n",
        "#validation_steps = 20)"
      ]
    },
    {
      "cell_type": "code",
      "execution_count": 0,
      "metadata": {
        "colab": {
          "base_uri": "https://localhost:8080/",
          "height": 34
        },
        "colab_type": "code",
        "id": "pUuGdvzawfMy",
        "outputId": "e7fa08f5-3de3-4491-dcf0-1852b07936c8"
      },
      "outputs": [
        {
          "data": {
            "text/plain": [
              "'fake'"
            ]
          },
          "execution_count": 45,
          "metadata": {
            "tags": []
          },
          "output_type": "execute_result"
        }
      ],
      "source": [
        "import numpy as np\n",
        "from keras.preprocessing import image\n",
        "test_image = image.load_img('gdrive/My Drive/AppliedProject/MyTesting/Fake/1.png', target_size = (1024,1024))\n",
        "test_image = image.img_to_array(test_image)\n",
        "test_image = np.expand_dims(test_image, axis = 0)\n",
        "result = classifier.predict(test_image)\n",
        "training_set.class_indices\n",
        "if result[0][0] == 1:\n",
        "  prediction = 'fake'\n",
        "else:\n",
        "  prediction = 'real'\n",
        "  \n",
        "prediction"
      ]
    }
  ]
}